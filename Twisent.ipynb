{
 "cells": [
  {
   "cell_type": "code",
   "execution_count": 6,
   "id": "6686f997",
   "metadata": {},
   "outputs": [],
   "source": [
    "import tweepy # For twitter connection\n",
    "import numpy as np # linear algebra\n",
    "import pandas as tpd # data processing, CSV file I/O (e.g. pd.read_csv)\n",
    "import tweepy as tw # To extarct the twitter data\n",
    "from tqdm import tqdm #For displaying progress bar"
   ]
  },
  {
   "cell_type": "code",
   "execution_count": 7,
   "id": "ea3b663c",
   "metadata": {},
   "outputs": [],
   "source": [
    "access_token=\"787244004098187264-PPvZdf2EOC7CyuyPZtJxKIKf0ysYKNj\"\n",
    "access_token_secret=\"0RCDdU87BKyggnLyHCKA4LkUMgfp418Gq0wxyllwzxlPa\"\n",
    "consumer_key=\"LdtitxXRoMWiyy6SC7ZCfxPCd\"\n",
    "consumer_secret=\"johM0OL8kg3sVfgYOx7PWfyuQZGNy92CpfEjxZL3W5quyKAlcE\"\n",
    "\n",
    "# Creating the authentication object\n",
    "auth = tweepy.OAuthHandler(consumer_key, consumer_secret)\n",
    "# Setting your access token and secret\n",
    "auth.set_access_token(access_token, access_token_secret)\n",
    "# Creating the API object while passing in auth information\n",
    "api = tweepy.API(auth)"
   ]
  },
  {
   "cell_type": "code",
   "execution_count": 8,
   "id": "baa4cdf2",
   "metadata": {},
   "outputs": [],
   "source": [
    "search_words = \"#Omicron -filter:retweets\"  #Type you keywork here instead of #Omicron\n",
    "#You can fix a time frame with the date since and date until parameters\n",
    "date_since = \"2022-01-01\"\n",
    "# Collect tweets\n",
    "tweets = tweepy.Cursor(api.search_tweets,\n",
    "              q=search_words,\n",
    "              lang=\"en\",\n",
    "              since=date_since\n",
    "              ).items(800) #We instruct the cursor to return maximum of 400 tweets"
   ]
  },
  {
   "cell_type": "code",
   "execution_count": 5,
   "id": "9276be12",
   "metadata": {},
   "outputs": [
    {
     "name": "stderr",
     "output_type": "stream",
     "text": [
      "0it [00:00, ?it/s]Unexpected parameter: since\n",
      "1it [00:00,  1.91it/s]Unexpected parameter: since\n",
      "16it [00:00, 20.52it/s]Unexpected parameter: since\n",
      "31it [00:01, 27.23it/s]Unexpected parameter: since\n",
      "46it [00:01, 31.00it/s]Unexpected parameter: since\n",
      "61it [00:02, 30.36it/s]Unexpected parameter: since\n",
      "76it [00:02, 29.83it/s]Unexpected parameter: since\n",
      "91it [00:03, 31.79it/s]Unexpected parameter: since\n",
      "106it [00:03, 33.29it/s]Unexpected parameter: since\n",
      "121it [00:03, 35.29it/s]Unexpected parameter: since\n",
      "136it [00:04, 34.58it/s]Unexpected parameter: since\n",
      "151it [00:04, 35.41it/s]Unexpected parameter: since\n",
      "166it [00:05, 35.85it/s]Unexpected parameter: since\n",
      "181it [00:05, 31.25it/s]Unexpected parameter: since\n",
      "196it [00:06, 32.89it/s]Unexpected parameter: since\n",
      "211it [00:06, 31.52it/s]Unexpected parameter: since\n",
      "226it [00:07, 33.03it/s]Unexpected parameter: since\n",
      "241it [00:07, 31.77it/s]Unexpected parameter: since\n",
      "256it [00:08, 31.05it/s]Unexpected parameter: since\n",
      "271it [00:08, 32.52it/s]Unexpected parameter: since\n",
      "286it [00:09, 33.60it/s]Unexpected parameter: since\n",
      "301it [00:09, 32.21it/s]Unexpected parameter: since\n",
      "316it [00:09, 33.30it/s]Unexpected parameter: since\n",
      "331it [00:10, 34.37it/s]Unexpected parameter: since\n",
      "346it [00:10, 34.81it/s]Unexpected parameter: since\n",
      "361it [00:11, 33.21it/s]Unexpected parameter: since\n",
      "376it [00:11, 34.09it/s]Unexpected parameter: since\n",
      "391it [00:12, 35.09it/s]Unexpected parameter: since\n",
      "406it [00:12, 35.27it/s]Unexpected parameter: since\n",
      "421it [00:12, 35.60it/s]Unexpected parameter: since\n",
      "436it [00:13, 33.50it/s]Unexpected parameter: since\n",
      "451it [00:13, 34.13it/s]Unexpected parameter: since\n",
      "466it [00:14, 35.08it/s]Unexpected parameter: since\n",
      "481it [00:14, 33.16it/s]Unexpected parameter: since\n",
      "496it [00:15, 34.00it/s]Unexpected parameter: since\n",
      "511it [00:15, 32.57it/s]Unexpected parameter: since\n",
      "526it [00:16, 33.75it/s]Unexpected parameter: since\n",
      "541it [00:16, 34.50it/s]Unexpected parameter: since\n",
      "556it [00:16, 35.09it/s]Unexpected parameter: since\n",
      "571it [00:17, 35.34it/s]Unexpected parameter: since\n",
      "586it [00:17, 35.95it/s]Unexpected parameter: since\n",
      "601it [00:18, 35.91it/s]Unexpected parameter: since\n",
      "616it [00:18, 36.36it/s]Unexpected parameter: since\n",
      "631it [00:18, 36.37it/s]Unexpected parameter: since\n",
      "646it [00:19, 36.47it/s]Unexpected parameter: since\n",
      "661it [00:19, 36.46it/s]Unexpected parameter: since\n",
      "676it [00:20, 36.54it/s]Unexpected parameter: since\n",
      "691it [00:20, 34.02it/s]Unexpected parameter: since\n",
      "706it [00:21, 34.81it/s]Unexpected parameter: since\n",
      "721it [00:21, 35.32it/s]Unexpected parameter: since\n",
      "736it [00:22, 33.28it/s]Unexpected parameter: since\n",
      "751it [00:22, 31.85it/s]Unexpected parameter: since\n",
      "766it [00:22, 33.19it/s]Unexpected parameter: since\n",
      "781it [00:23, 35.01it/s]Unexpected parameter: since\n",
      "800it [00:23, 33.68it/s]"
     ]
    },
    {
     "name": "stdout",
     "output_type": "stream",
     "text": [
      "New tweets retrieved: 800\n"
     ]
    },
    {
     "name": "stderr",
     "output_type": "stream",
     "text": [
      "\n"
     ]
    }
   ],
   "source": [
    "tweets_copy = []\n",
    "for tweet in tqdm(tweets):\n",
    "    tweets_copy.append(tweet)\n",
    "\n",
    "print(f\"New tweets retrieved: {len(tweets_copy)}\")"
   ]
  },
  {
   "cell_type": "code",
   "execution_count": 10,
   "id": "1785de8e",
   "metadata": {},
   "outputs": [
    {
     "name": "stderr",
     "output_type": "stream",
     "text": [
      "100%|██████████| 800/800 [00:01<00:00, 537.29it/s]"
     ]
    },
    {
     "name": "stdout",
     "output_type": "stream",
     "text": [
      "                    user_location                      date  \\\n",
      "0               God’s own Country 2022-01-07 02:53:18+00:00   \n",
      "0                        Colorado 2022-01-07 02:53:08+00:00   \n",
      "0   Nomad (St Thomas, ON for now) 2022-01-07 02:53:06+00:00   \n",
      "0                                 2022-01-07 02:52:32+00:00   \n",
      "0                    Florida, USA 2022-01-07 02:52:31+00:00   \n",
      "..                            ...                       ...   \n",
      "0                 Wherever I am…. 2022-01-07 00:26:19+00:00   \n",
      "0                                 2022-01-07 00:26:08+00:00   \n",
      "0                      Hobart, WA 2022-01-07 00:26:04+00:00   \n",
      "0            Melbourne, Australia 2022-01-07 00:26:04+00:00   \n",
      "0                        Malaysia 2022-01-07 00:25:55+00:00   \n",
      "\n",
      "                                                 text  \\\n",
      "0   #OmicronVirus #Omicron real Truth #Mutation to...   \n",
      "0   Keep sending tech from #CES2022\\nI'm home for ...   \n",
      "0   A *MUST-READ* thread about the reality behind ...   \n",
      "0   Clear Data on Omicron from NY: \\n\\nIf you are ...   \n",
      "0   @hobbs1000 @jimiuorio @BuyPullbacks the virus ...   \n",
      "..                                                ...   \n",
      "0   2022 SUNDANCE FILM FESTIVAL UPDATE \\nin-person...   \n",
      "0   @joe_warmington Thank you Joe and @LeslynLewis...   \n",
      "0   Well I'm now a statistic #COVID19 #Omicron #th...   \n",
      "0   #DanHasThrownUsToTheWolves is exactly how I’m ...   \n",
      "0   Things are NOT looking good from the #Omicron ...   \n",
      "\n",
      "                                             hashtags               source  \\\n",
      "0                   [OmicronVirus, Omicron, Mutation]   Twitter for iPhone   \n",
      "0                                  [CES2022, Omicron]  Twitter for Android   \n",
      "0                                                None       Hootsuite Inc.   \n",
      "0                                                None      Twitter Web App   \n",
      "0                   [covid, covid_19, omicron, delta]   Twitter for iPhone   \n",
      "..                                                ...                  ...   \n",
      "0                                 [Sundance, Omicron]   Twitter for iPhone   \n",
      "0                                                None  Twitter for Android   \n",
      "0                    [COVID19, Omicron, thanksdisney]  Twitter for Android   \n",
      "0   [DanHasThrownUsToTheWolves, Covid19, LetItRip,...   Twitter for iPhone   \n",
      "0                          [Omicron, KlusterKeratong]  Twitter for Android   \n",
      "\n",
      "    is_retweet  \n",
      "0        False  \n",
      "0        False  \n",
      "0        False  \n",
      "0        False  \n",
      "0        False  \n",
      "..         ...  \n",
      "0        False  \n",
      "0        False  \n",
      "0        False  \n",
      "0        False  \n",
      "0        False  \n",
      "\n",
      "[800 rows x 6 columns]\n"
     ]
    },
    {
     "name": "stderr",
     "output_type": "stream",
     "text": [
      "\n"
     ]
    }
   ],
   "source": [
    "import pandas as pd\n",
    "tweets_df = pd.DataFrame()\n",
    "for tweet in tqdm(tweets_copy):\n",
    "    hashtags = []\n",
    "    try:\n",
    "        for hashtag in tweet.entities[\"hashtags\"]:\n",
    "            hashtags.append(hashtag[\"text\"])\n",
    "    except:\n",
    "        pass\n",
    "    tweets_df = tweets_df.append(pd.DataFrame({'user_location': tweet.user.location,\\\n",
    "                                               'date': tweet.created_at,\n",
    "                                               'text': tweet.text,\n",
    "                                               'hashtags': [hashtags if hashtags else None],\n",
    "                                               'source': tweet.source,\n",
    "                                               'is_retweet': tweet.retweeted}, index=[0]))\n",
    "print(tweets_df)"
   ]
  },
  {
   "cell_type": "code",
   "execution_count": 11,
   "id": "e6d489e7",
   "metadata": {},
   "outputs": [],
   "source": [
    "tweets_df.to_csv('Om3.csv',index=False)"
   ]
  },
  {
   "cell_type": "code",
   "execution_count": 12,
   "id": "393398d7",
   "metadata": {},
   "outputs": [
    {
     "name": "stderr",
     "output_type": "stream",
     "text": [
      "[nltk_data] Downloading package stopwords to\n",
      "[nltk_data]     C:\\Users\\kkonar2\\AppData\\Roaming\\nltk_data...\n",
      "[nltk_data]   Package stopwords is already up-to-date!\n",
      "[nltk_data] Downloading package punkt to\n",
      "[nltk_data]     C:\\Users\\kkonar2\\AppData\\Roaming\\nltk_data...\n",
      "[nltk_data]   Package punkt is already up-to-date!\n"
     ]
    },
    {
     "data": {
      "text/plain": [
       "True"
      ]
     },
     "execution_count": 12,
     "metadata": {},
     "output_type": "execute_result"
    }
   ],
   "source": [
    "import pandas as pd\n",
    "import html\n",
    "import re\n",
    "from matplotlib import pyplot as plt\n",
    "from nltk.corpus import stopwords\n",
    "import nltk\n",
    "from textblob import TextBlob\n",
    "nltk.download('stopwords')\n",
    "nltk.download('punkt')"
   ]
  },
  {
   "cell_type": "code",
   "execution_count": 16,
   "id": "1ce2c5f4",
   "metadata": {},
   "outputs": [],
   "source": [
    "pd.set_option('display.max_colwidth',None)\n",
    "data = pd.read_csv(\"C:/Users/kkonar2/Om3.csv\")\n",
    "new_data = data.drop_duplicates('text',keep='first')\n",
    "new_data.to_csv('Om4_new1.csv',index=False)\n",
    "new_sample = pd.read_csv(\"C:/Users/kkonar2/Om4_new1.csv\")"
   ]
  },
  {
   "cell_type": "code",
   "execution_count": 17,
   "id": "bd19af4a",
   "metadata": {},
   "outputs": [
    {
     "name": "stderr",
     "output_type": "stream",
     "text": [
      "C:\\Users\\kkonar2\\AppData\\Local\\Temp/ipykernel_1756/543057943.py:4: SettingWithCopyWarning: \n",
      "A value is trying to be set on a copy of a slice from a DataFrame\n",
      "\n",
      "See the caveats in the documentation: https://pandas.pydata.org/pandas-docs/stable/user_guide/indexing.html#returning-a-view-versus-a-copy\n",
      "  tweets[i]=html.unescape(x)\n",
      "C:\\Users\\kkonar2\\AppData\\Local\\Temp/ipykernel_1756/543057943.py:5: SettingWithCopyWarning: \n",
      "A value is trying to be set on a copy of a slice from a DataFrame\n",
      "\n",
      "See the caveats in the documentation: https://pandas.pydata.org/pandas-docs/stable/user_guide/indexing.html#returning-a-view-versus-a-copy\n",
      "  tweets[i]=re.sub(r\"(@[A-Za-z0–9_]+)|[^\\w\\s]|#|RT|http\\S+\", \"\", tweets[i])\n"
     ]
    },
    {
     "name": "stdout",
     "output_type": "stream",
     "text": [
      "0                                                          OmicronVirus Omicron real Truth Mutation to be continued  \n",
      "1       Keep sending tech from CES2022Im home for a month avoiding Omicron Is there anything for the normal consumer \n",
      "2        A MUSTREAD thread about the reality behind Omicrons mild symptoms Its not short but the info is something w \n",
      "3    Clear Data on Omicron from NY If you are vaccinated you are much less likely to get sick and if you do get sick \n",
      "4                        1000   the virus really doesnt care about your politics or mine covid covid_19 omicron delta\n",
      "Name: text, dtype: object\n"
     ]
    }
   ],
   "source": [
    "tweets = new_sample['text']\n",
    "for i in range(len(tweets)):\n",
    "    x=tweets[i].replace('\\n', '')\n",
    "    tweets[i]=html.unescape(x)\n",
    "    tweets[i]=re.sub(r\"(@[A-Za-z0–9_]+)|[^\\w\\s]|#|RT|http\\S+\", \"\", tweets[i])\n",
    "\n",
    "print(tweets.head())\n",
    "sw = stopwords.words('english')\n",
    "sw.remove('not')"
   ]
  },
  {
   "cell_type": "code",
   "execution_count": 18,
   "id": "fd13b1a7",
   "metadata": {},
   "outputs": [
    {
     "name": "stdout",
     "output_type": "stream",
     "text": [
      "   polarity  \\\n",
      "0  0.200000   \n",
      "1  0.150000   \n",
      "2 -0.022222   \n",
      "3 -0.299048   \n",
      "4  0.200000   \n",
      "\n",
      "                                                                                                              tweet  \n",
      "0                                                        OmicronVirus Omicron real Truth Mutation to be continued    \n",
      "1     Keep sending tech from CES2022Im home for a month avoiding Omicron Is there anything for the normal consumer   \n",
      "2      A MUSTREAD thread about the reality behind Omicrons mild symptoms Its not short but the info is something w   \n",
      "3  Clear Data on Omicron from NY If you are vaccinated you are much less likely to get sick and if you do get sick   \n",
      "4                      1000   the virus really doesnt care about your politics or mine covid covid_19 omicron delta  \n"
     ]
    }
   ],
   "source": [
    "# Create textblob objects of the tweets\n",
    "sentiment_objects = [TextBlob(tweet) for tweet in tweets]\n",
    "\n",
    "sentiment_objects[0].polarity, sentiment_objects[0]\n",
    "sentiment_values = [[tweet.sentiment.polarity, str(tweet)] for tweet in sentiment_objects]\n",
    "# Create dataframe containing the polarity value and tweet text\n",
    "sentiment_df = pd.DataFrame(sentiment_values, columns=[\"polarity\",\"tweet\"])\n",
    "print(sentiment_df.head())"
   ]
  },
  {
   "cell_type": "code",
   "execution_count": 19,
   "id": "aa86225d",
   "metadata": {},
   "outputs": [
    {
     "data": {
      "image/png": "[encoded data removed]",
      "text/plain": [
       "<Figure size 576x432 with 1 Axes>"
      ]
     },
     "metadata": {
      "needs_background": "light"
     },
     "output_type": "display_data"
    }
   ],
   "source": [
    "# Remove polarity values equal to zero\n",
    "sentiment_df = sentiment_df[sentiment_df.polarity != 0]\n",
    "fig, ax = plt.subplots(figsize=(8, 6))\n",
    "\n",
    "# Plot histogram with break at zero\n",
    "sentiment_df.hist(bins=[-1, -0.75, -0.5, -0.25, 0.0, 0.25, 0.5, 0.75, 1],\n",
    "             ax=ax,\n",
    "             color=\"Blue\")\n",
    "\n",
    "plt.title(\"Sentiments from Tweets on Omicron Virus\")\n",
    "plt.show()"
   ]
  },
  {
   "cell_type": "code",
   "execution_count": null,
   "id": "06dc70a3",
   "metadata": {},
   "outputs": [],
   "source": []
  }
 ],
 "metadata": {
  "kernelspec": {
   "display_name": "Python 3 (ipykernel)",
   "language": "python",
   "name": "python3"
  },
  "language_info": {
   "codemirror_mode": {
    "name": "ipython",
    "version": 3
   },
   "file_extension": ".py",
   "mimetype": "text/x-python",
   "name": "python",
   "nbconvert_exporter": "python",
   "pygments_lexer": "ipython3",
   "version": "3.8.8"
  }
 },
 "nbformat": 4,
 "nbformat_minor": 5
}
